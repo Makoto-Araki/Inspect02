{
 "cells": [
  {
   "cell_type": "code",
   "execution_count": 9,
   "metadata": {},
   "outputs": [],
   "source": [
    "# ライブラリ\n",
    "import requests\n",
    "import datetime\n",
    "import csv\n",
    "from bs4 import BeautifulSoup\n",
    "from urllib.parse import urljoin\n",
    "from time import sleep\n",
    "\n",
    "# 初期化\n",
    "url = 'https://python-data-collection.herokuapp.com/ranking'\n",
    "parser = 'html.parser'\n",
    "item_list = []\n",
    "\n",
    "# 練習サイトの一覧ページ(10ページ分)をループ処理\n",
    "for i in range(9):\n",
    "    response = requests.get(url)\n",
    "    soup = BeautifulSoup(response.text, parser)\n",
    "    \n",
    "    # 一覧ページ上の各商品のデータ取得\n",
    "    for elem in soup.find_all('div', class_='col border'):\n",
    "        item_ranking = int(elem.find('span', class_='badge bg-secondary').text.replace('#',''))\n",
    "        item_name = elem.find('h5').text\n",
    "        item_url = urljoin(url, elem.a['href'])\n",
    "        item_rating = float(elem.find('p', class_='card-text')['class'][1].replace('star-rating-', ''))\n",
    "        item_no_of_ratings = int(elem.find('p', class_='card-text').span.text.replace(',',''))\n",
    "        item_price = int(elem.find('span', class_='text-danger').text.replace(',','')[1:])\n",
    "        item_list.append([item_ranking, item_name, item_url, item_rating, item_no_of_ratings, item_price])\n",
    "    \n",
    "    # 次ページのURL更新\n",
    "    if soup.select(\"a:contains('Next')\"):\n",
    "        url = urljoin(url, soup.select(\"a:contains('Next')\")[0]['href'])\n",
    "        sleep(1)\n",
    "    else:\n",
    "        break\n",
    "\n",
    "# CSVファイル\n",
    "csv_head = ['ランキング', '商品名', 'URL', '評価', '評価数', '価格']\n",
    "csv_date = datetime.datetime.today().strftime('%Y%m%d%H')\n",
    "csv_file = 'notebook_' + csv_date + '.csv'\n",
    "\n",
    "# CSVファイルにデータ保存\n",
    "with open(csv_file, 'w', errors='ignore') as file:\n",
    "    writer = csv.writer(file, lineterminator='\\n')\n",
    "    writer.writerow(csv_head)\n",
    "    writer.writerows(item_list)"
   ]
  },
  {
   "cell_type": "code",
   "execution_count": null,
   "metadata": {},
   "outputs": [],
   "source": []
  }
 ],
 "metadata": {
  "kernelspec": {
   "display_name": "Python 3",
   "language": "python",
   "name": "python3"
  },
  "language_info": {
   "codemirror_mode": {
    "name": "ipython",
    "version": 3
   },
   "file_extension": ".py",
   "mimetype": "text/x-python",
   "name": "python",
   "nbconvert_exporter": "python",
   "pygments_lexer": "ipython3",
   "version": "3.8.3"
  }
 },
 "nbformat": 4,
 "nbformat_minor": 4
}
